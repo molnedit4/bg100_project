{
 "cells": [
  {
   "attachments": {},
   "cell_type": "markdown",
   "metadata": {
    "_cell_guid": "b4a412f8-b023-4623-9967-d35bc22833a0",
    "_uuid": "eb36c126a50447374a8e4f13099f1f8f1234ee2d",
    "colab_type": "text",
    "id": "VMiGkUAR0yke"
   },
   "source": [
    "## Load Libraries"
   ]
  },
  {
   "cell_type": "code",
   "execution_count": 2,
   "metadata": {},
   "outputs": [
    {
     "name": "stdout",
     "output_type": "stream",
     "text": [
      "Collecting numpy\n",
      "  Downloading numpy-1.24.3-cp39-cp39-win_amd64.whl (14.9 MB)\n",
      "                                              0.0/14.9 MB ? eta -:--:--\n",
      "                                              0.3/14.9 MB 5.2 MB/s eta 0:00:03\n",
      "     --                                       0.8/14.9 MB 7.5 MB/s eta 0:00:02\n",
      "     ------                                   2.4/14.9 MB 13.9 MB/s eta 0:00:01\n",
      "     --------                                 3.1/14.9 MB 13.1 MB/s eta 0:00:01\n",
      "     -------------                            5.1/14.9 MB 16.1 MB/s eta 0:00:01\n",
      "     ---------------                          5.9/14.9 MB 17.1 MB/s eta 0:00:01\n",
      "     -----------------                        6.7/14.9 MB 17.0 MB/s eta 0:00:01\n",
      "     --------------------                     7.6/14.9 MB 16.8 MB/s eta 0:00:01\n",
      "     ---------------------                    8.1/14.9 MB 15.7 MB/s eta 0:00:01\n",
      "     -------------------------                9.5/14.9 MB 15.6 MB/s eta 0:00:01\n",
      "     ------------------------------          11.6/14.9 MB 19.8 MB/s eta 0:00:01\n",
      "     --------------------------------        12.4/14.9 MB 18.7 MB/s eta 0:00:01\n",
      "     ----------------------------------      13.1/14.9 MB 18.2 MB/s eta 0:00:01\n",
      "     -------------------------------------   14.2/14.9 MB 18.7 MB/s eta 0:00:01\n",
      "     --------------------------------------  14.9/14.9 MB 18.7 MB/s eta 0:00:01\n",
      "     --------------------------------------- 14.9/14.9 MB 15.6 MB/s eta 0:00:00\n",
      "Installing collected packages: numpy\n",
      "Successfully installed numpy-1.24.3\n",
      "Note: you may need to restart the kernel to use updated packages.\n",
      "Collecting pandas\n",
      "  Downloading pandas-2.0.2-cp39-cp39-win_amd64.whl (10.7 MB)\n",
      "                                              0.0/10.7 MB ? eta -:--:--\n",
      "                                              0.2/10.7 MB 4.7 MB/s eta 0:00:03\n",
      "     --                                       0.6/10.7 MB 5.8 MB/s eta 0:00:02\n",
      "     -----                                    1.6/10.7 MB 7.9 MB/s eta 0:00:02\n",
      "     ------------                             3.5/10.7 MB 13.9 MB/s eta 0:00:01\n",
      "     ------------------                       5.1/10.7 MB 16.2 MB/s eta 0:00:01\n",
      "     ----------------------                   6.0/10.7 MB 15.9 MB/s eta 0:00:01\n",
      "     -----------------------                  6.3/10.7 MB 14.4 MB/s eta 0:00:01\n",
      "     -------------------------------          8.4/10.7 MB 17.3 MB/s eta 0:00:01\n",
      "     ----------------------------------       9.3/10.7 MB 17.4 MB/s eta 0:00:01\n",
      "     ------------------------------------    10.1/10.7 MB 17.4 MB/s eta 0:00:01\n",
      "     --------------------------------------  10.7/10.7 MB 20.5 MB/s eta 0:00:01\n",
      "     --------------------------------------  10.7/10.7 MB 20.5 MB/s eta 0:00:01\n",
      "     --------------------------------------- 10.7/10.7 MB 13.6 MB/s eta 0:00:00\n",
      "Requirement already satisfied: python-dateutil>=2.8.2 in c:\\users\\felhasznalo\\desktop\\bg_project\\.venv\\lib\\site-packages (from pandas) (2.8.2)\n",
      "Collecting pytz>=2020.1 (from pandas)\n",
      "  Downloading pytz-2023.3-py2.py3-none-any.whl (502 kB)\n",
      "                                              0.0/502.3 kB ? eta -:--:--\n",
      "     ------------------------------------  501.8/502.3 kB 30.7 MB/s eta 0:00:01\n",
      "     ------------------------------------- 502.3/502.3 kB 10.5 MB/s eta 0:00:00\n",
      "Collecting tzdata>=2022.1 (from pandas)\n",
      "  Downloading tzdata-2023.3-py2.py3-none-any.whl (341 kB)\n",
      "                                              0.0/341.8 kB ? eta -:--:--\n",
      "     -------------------------------------- 341.8/341.8 kB 7.1 MB/s eta 0:00:00\n",
      "Requirement already satisfied: numpy>=1.20.3 in c:\\users\\felhasznalo\\desktop\\bg_project\\.venv\\lib\\site-packages (from pandas) (1.24.3)\n",
      "Requirement already satisfied: six>=1.5 in c:\\users\\felhasznalo\\desktop\\bg_project\\.venv\\lib\\site-packages (from python-dateutil>=2.8.2->pandas) (1.16.0)\n",
      "Installing collected packages: pytz, tzdata, pandas\n",
      "Successfully installed pandas-2.0.2 pytz-2023.3 tzdata-2023.3\n",
      "Note: you may need to restart the kernel to use updated packages.\n",
      "Collecting matplotlib\n",
      "  Downloading matplotlib-3.7.1-cp39-cp39-win_amd64.whl (7.6 MB)\n",
      "                                              0.0/7.6 MB ? eta -:--:--\n",
      "     -                                        0.3/7.6 MB 7.7 MB/s eta 0:00:01\n",
      "     ------                                   1.2/7.6 MB 12.2 MB/s eta 0:00:01\n",
      "     ----------                               2.1/7.6 MB 14.7 MB/s eta 0:00:01\n",
      "     ---------------                          3.0/7.6 MB 15.7 MB/s eta 0:00:01\n",
      "     --------------------                     4.0/7.6 MB 16.8 MB/s eta 0:00:01\n",
      "     -----------------------                  4.5/7.6 MB 16.0 MB/s eta 0:00:01\n",
      "     ---------------------------              5.3/7.6 MB 14.6 MB/s eta 0:00:01\n",
      "     -----------------------------------      6.8/7.6 MB 15.5 MB/s eta 0:00:01\n",
      "     ---------------------------------------  7.6/7.6 MB 16.8 MB/s eta 0:00:01\n",
      "     ---------------------------------------- 7.6/7.6 MB 14.8 MB/s eta 0:00:00\n",
      "Collecting contourpy>=1.0.1 (from matplotlib)\n",
      "  Downloading contourpy-1.0.7-cp39-cp39-win_amd64.whl (160 kB)\n",
      "                                              0.0/160.2 kB ? eta -:--:--\n",
      "     -------------------------------------- 160.2/160.2 kB 9.4 MB/s eta 0:00:00\n",
      "Collecting cycler>=0.10 (from matplotlib)\n",
      "  Using cached cycler-0.11.0-py3-none-any.whl (6.4 kB)\n",
      "Collecting fonttools>=4.22.0 (from matplotlib)\n",
      "  Downloading fonttools-4.39.4-py3-none-any.whl (1.0 MB)\n",
      "                                              0.0/1.0 MB ? eta -:--:--\n",
      "     ---------------------------              0.7/1.0 MB 14.8 MB/s eta 0:00:01\n",
      "     ---------------------------------------  1.0/1.0 MB 16.0 MB/s eta 0:00:01\n",
      "     ---------------------------------------- 1.0/1.0 MB 9.2 MB/s eta 0:00:00\n",
      "Collecting kiwisolver>=1.0.1 (from matplotlib)\n",
      "  Downloading kiwisolver-1.4.4-cp39-cp39-win_amd64.whl (55 kB)\n",
      "                                              0.0/55.4 kB ? eta -:--:--\n",
      "     ---------------------------------------- 55.4/55.4 kB 2.8 MB/s eta 0:00:00\n",
      "Requirement already satisfied: numpy>=1.20 in c:\\users\\felhasznalo\\desktop\\bg_project\\.venv\\lib\\site-packages (from matplotlib) (1.24.3)\n",
      "Requirement already satisfied: packaging>=20.0 in c:\\users\\felhasznalo\\desktop\\bg_project\\.venv\\lib\\site-packages (from matplotlib) (23.1)\n",
      "Collecting pillow>=6.2.0 (from matplotlib)\n",
      "  Downloading Pillow-9.5.0-cp39-cp39-win_amd64.whl (2.5 MB)\n",
      "                                              0.0/2.5 MB ? eta -:--:--\n",
      "     -----------                              0.7/2.5 MB 23.1 MB/s eta 0:00:01\n",
      "     -------------------------                1.6/2.5 MB 14.7 MB/s eta 0:00:01\n",
      "     ---------------------------------------  2.5/2.5 MB 16.0 MB/s eta 0:00:01\n",
      "     ---------------------------------------- 2.5/2.5 MB 12.5 MB/s eta 0:00:00\n",
      "Collecting pyparsing>=2.3.1 (from matplotlib)\n",
      "  Using cached pyparsing-3.0.9-py3-none-any.whl (98 kB)\n",
      "Requirement already satisfied: python-dateutil>=2.7 in c:\\users\\felhasznalo\\desktop\\bg_project\\.venv\\lib\\site-packages (from matplotlib) (2.8.2)\n",
      "Collecting importlib-resources>=3.2.0 (from matplotlib)\n",
      "  Downloading importlib_resources-5.12.0-py3-none-any.whl (36 kB)\n",
      "Requirement already satisfied: zipp>=3.1.0 in c:\\users\\felhasznalo\\desktop\\bg_project\\.venv\\lib\\site-packages (from importlib-resources>=3.2.0->matplotlib) (3.15.0)\n",
      "Requirement already satisfied: six>=1.5 in c:\\users\\felhasznalo\\desktop\\bg_project\\.venv\\lib\\site-packages (from python-dateutil>=2.7->matplotlib) (1.16.0)\n",
      "Installing collected packages: pyparsing, pillow, kiwisolver, importlib-resources, fonttools, cycler, contourpy, matplotlib\n",
      "Successfully installed contourpy-1.0.7 cycler-0.11.0 fonttools-4.39.4 importlib-resources-5.12.0 kiwisolver-1.4.4 matplotlib-3.7.1 pillow-9.5.0 pyparsing-3.0.9\n",
      "Note: you may need to restart the kernel to use updated packages.\n",
      "Collecting seaborn\n",
      "  Downloading seaborn-0.12.2-py3-none-any.whl (293 kB)\n",
      "                                              0.0/293.3 kB ? eta -:--:--\n",
      "     -------------------                    153.6/293.3 kB 3.1 MB/s eta 0:00:01\n",
      "     -------------------------------------- 293.3/293.3 kB 3.6 MB/s eta 0:00:00\n",
      "Requirement already satisfied: numpy!=1.24.0,>=1.17 in c:\\users\\felhasznalo\\desktop\\bg_project\\.venv\\lib\\site-packages (from seaborn) (1.24.3)\n",
      "Requirement already satisfied: pandas>=0.25 in c:\\users\\felhasznalo\\desktop\\bg_project\\.venv\\lib\\site-packages (from seaborn) (2.0.2)\n",
      "Requirement already satisfied: matplotlib!=3.6.1,>=3.1 in c:\\users\\felhasznalo\\desktop\\bg_project\\.venv\\lib\\site-packages (from seaborn) (3.7.1)\n",
      "Requirement already satisfied: contourpy>=1.0.1 in c:\\users\\felhasznalo\\desktop\\bg_project\\.venv\\lib\\site-packages (from matplotlib!=3.6.1,>=3.1->seaborn) (1.0.7)\n",
      "Requirement already satisfied: cycler>=0.10 in c:\\users\\felhasznalo\\desktop\\bg_project\\.venv\\lib\\site-packages (from matplotlib!=3.6.1,>=3.1->seaborn) (0.11.0)\n",
      "Requirement already satisfied: fonttools>=4.22.0 in c:\\users\\felhasznalo\\desktop\\bg_project\\.venv\\lib\\site-packages (from matplotlib!=3.6.1,>=3.1->seaborn) (4.39.4)\n",
      "Requirement already satisfied: kiwisolver>=1.0.1 in c:\\users\\felhasznalo\\desktop\\bg_project\\.venv\\lib\\site-packages (from matplotlib!=3.6.1,>=3.1->seaborn) (1.4.4)\n",
      "Requirement already satisfied: packaging>=20.0 in c:\\users\\felhasznalo\\desktop\\bg_project\\.venv\\lib\\site-packages (from matplotlib!=3.6.1,>=3.1->seaborn) (23.1)\n",
      "Requirement already satisfied: pillow>=6.2.0 in c:\\users\\felhasznalo\\desktop\\bg_project\\.venv\\lib\\site-packages (from matplotlib!=3.6.1,>=3.1->seaborn) (9.5.0)\n",
      "Requirement already satisfied: pyparsing>=2.3.1 in c:\\users\\felhasznalo\\desktop\\bg_project\\.venv\\lib\\site-packages (from matplotlib!=3.6.1,>=3.1->seaborn) (3.0.9)\n",
      "Requirement already satisfied: python-dateutil>=2.7 in c:\\users\\felhasznalo\\desktop\\bg_project\\.venv\\lib\\site-packages (from matplotlib!=3.6.1,>=3.1->seaborn) (2.8.2)\n",
      "Requirement already satisfied: importlib-resources>=3.2.0 in c:\\users\\felhasznalo\\desktop\\bg_project\\.venv\\lib\\site-packages (from matplotlib!=3.6.1,>=3.1->seaborn) (5.12.0)\n",
      "Requirement already satisfied: pytz>=2020.1 in c:\\users\\felhasznalo\\desktop\\bg_project\\.venv\\lib\\site-packages (from pandas>=0.25->seaborn) (2023.3)\n",
      "Requirement already satisfied: tzdata>=2022.1 in c:\\users\\felhasznalo\\desktop\\bg_project\\.venv\\lib\\site-packages (from pandas>=0.25->seaborn) (2023.3)\n",
      "Requirement already satisfied: zipp>=3.1.0 in c:\\users\\felhasznalo\\desktop\\bg_project\\.venv\\lib\\site-packages (from importlib-resources>=3.2.0->matplotlib!=3.6.1,>=3.1->seaborn) (3.15.0)\n",
      "Requirement already satisfied: six>=1.5 in c:\\users\\felhasznalo\\desktop\\bg_project\\.venv\\lib\\site-packages (from python-dateutil>=2.7->matplotlib!=3.6.1,>=3.1->seaborn) (1.16.0)\n",
      "Installing collected packages: seaborn\n",
      "Successfully installed seaborn-0.12.2\n",
      "Note: you may need to restart the kernel to use updated packages.\n",
      "Collecting sklearn\n",
      "  Downloading sklearn-0.0.post5.tar.gz (3.7 kB)\n",
      "  Installing build dependencies: started\n",
      "  Installing build dependencies: finished with status 'done'\n",
      "  Getting requirements to build wheel: started\n",
      "  Getting requirements to build wheel: finished with status 'done'\n",
      "  Preparing metadata (pyproject.toml): started\n",
      "  Preparing metadata (pyproject.toml): finished with status 'done'\n",
      "Building wheels for collected packages: sklearn\n",
      "  Building wheel for sklearn (pyproject.toml): started\n",
      "  Building wheel for sklearn (pyproject.toml): finished with status 'done'\n",
      "  Created wheel for sklearn: filename=sklearn-0.0.post5-py3-none-any.whl size=2968 sha256=ace386828e17da60939fbeaac4948f2b95b80988537efda3d5b476247367e362\n",
      "  Stored in directory: c:\\users\\felhasznalo\\appdata\\local\\pip\\cache\\wheels\\36\\49\\c9\\2374f1dee1b599effabf63d948635e6608f62d0ccde027b7e2\n",
      "Successfully built sklearn\n",
      "Installing collected packages: sklearn\n",
      "Successfully installed sklearn-0.0.post5\n",
      "Note: you may need to restart the kernel to use updated packages.\n"
     ]
    }
   ],
   "source": [
    "%pip install numpy\n",
    "%pip install pandas\n",
    "%pip install matplotlib\n",
    "%pip install seaborn\n",
    "%pip install sklearn"
   ]
  },
  {
   "cell_type": "code",
   "execution_count": 3,
   "metadata": {
    "_cell_guid": "b09e815a-3e08-464b-a4dd-7a3ba6f0d02d",
    "_uuid": "0deb99666d6dec37b1c05bcd6274b43cf96583c9",
    "colab": {
     "autoexec": {
      "startup": false,
      "wait_interval": 0
     }
    },
    "colab_type": "code",
    "collapsed": true,
    "id": "a2jPersv04he",
    "jupyter": {
     "outputs_hidden": true
    },
    "pycharm": {
     "is_executing": true
    },
    "trusted": true
   },
   "outputs": [
    {
     "ename": "ModuleNotFoundError",
     "evalue": "No module named 'sklearn'",
     "output_type": "error",
     "traceback": [
      "\u001b[1;31m---------------------------------------------------------------------------\u001b[0m",
      "\u001b[1;31mModuleNotFoundError\u001b[0m                       Traceback (most recent call last)",
      "Cell \u001b[1;32mIn[3], line 9\u001b[0m\n\u001b[0;32m      6\u001b[0m \u001b[39mimport\u001b[39;00m \u001b[39mseaborn\u001b[39;00m \u001b[39mas\u001b[39;00m \u001b[39msns\u001b[39;00m \n\u001b[0;32m      8\u001b[0m \u001b[39m#Import models from scikit learn module:\u001b[39;00m\n\u001b[1;32m----> 9\u001b[0m \u001b[39mfrom\u001b[39;00m \u001b[39msklearn\u001b[39;00m\u001b[39m.\u001b[39;00m\u001b[39mmodel_selection\u001b[39;00m \u001b[39mimport\u001b[39;00m train_test_split, cross_val_score, cross_val_predict\n\u001b[0;32m     10\u001b[0m \u001b[39mfrom\u001b[39;00m \u001b[39msklearn\u001b[39;00m\u001b[39m.\u001b[39;00m\u001b[39mlinear_model\u001b[39;00m \u001b[39mimport\u001b[39;00m LogisticRegression, ElasticNet, ElasticNetCV\n\u001b[0;32m     11\u001b[0m \u001b[39mfrom\u001b[39;00m \u001b[39msklearn\u001b[39;00m\u001b[39m.\u001b[39;00m\u001b[39mensemble\u001b[39;00m \u001b[39mimport\u001b[39;00m RandomForestClassifier, RandomForestRegressor\n",
      "\u001b[1;31mModuleNotFoundError\u001b[0m: No module named 'sklearn'"
     ]
    }
   ],
   "source": [
    "import numpy as np\n",
    "import pandas as pd\n",
    "\n",
    "import matplotlib.pyplot as plt\n",
    "import matplotlib.gridspec as gridspec # subplots\n",
    "import seaborn as sns \n",
    "\n",
    "#Import models from scikit learn module:\n",
    "from sklearn.model_selection import train_test_split, cross_val_score, cross_val_predict\n",
    "from sklearn.linear_model import LogisticRegression, ElasticNet, ElasticNetCV\n",
    "from sklearn.ensemble import RandomForestClassifier, RandomForestRegressor\n",
    "from sklearn.tree import DecisionTreeClassifier, DecisionTreeRegressor, export_graphviz\n",
    "from sklearn import metrics "
   ]
  },
  {
   "attachments": {},
   "cell_type": "markdown",
   "metadata": {
    "_cell_guid": "8ea6d7d7-b8c2-43b3-8be9-78eee8c5b404",
    "_uuid": "1def6474ef1b6aeef5858995e9409f4a69e0d097",
    "colab_type": "text",
    "id": "78nQ3i230vZN"
   },
   "source": [
    "## Load Data "
   ]
  },
  {
   "cell_type": "code",
   "execution_count": 40,
   "metadata": {},
   "outputs": [],
   "source": [
    "df = pd.read_csv(\"BGG100.csv\",header = 0, encoding= 'unicode_escape', index_col='Rank')"
   ]
  },
  {
   "cell_type": "code",
   "execution_count": 28,
   "metadata": {},
   "outputs": [
    {
     "data": {
      "text/html": [
       "<div>\n",
       "<style scoped>\n",
       "    .dataframe tbody tr th:only-of-type {\n",
       "        vertical-align: middle;\n",
       "    }\n",
       "\n",
       "    .dataframe tbody tr th {\n",
       "        vertical-align: top;\n",
       "    }\n",
       "\n",
       "    .dataframe thead th {\n",
       "        text-align: right;\n",
       "    }\n",
       "</style>\n",
       "<table border=\"1\" class=\"dataframe\">\n",
       "  <thead>\n",
       "    <tr style=\"text-align: right;\">\n",
       "      <th></th>\n",
       "      <th>Rating</th>\n",
       "      <th>Name</th>\n",
       "      <th>Subtitle</th>\n",
       "      <th>Year</th>\n",
       "      <th>MinPlayers</th>\n",
       "      <th>MaxPlayers</th>\n",
       "      <th>BestPlayers</th>\n",
       "      <th>MinPlayTime</th>\n",
       "      <th>MaxPlayTime</th>\n",
       "      <th>MinAge</th>\n",
       "      <th>Weight</th>\n",
       "      <th>Type</th>\n",
       "    </tr>\n",
       "    <tr>\n",
       "      <th>Rank</th>\n",
       "      <th></th>\n",
       "      <th></th>\n",
       "      <th></th>\n",
       "      <th></th>\n",
       "      <th></th>\n",
       "      <th></th>\n",
       "      <th></th>\n",
       "      <th></th>\n",
       "      <th></th>\n",
       "      <th></th>\n",
       "      <th></th>\n",
       "      <th></th>\n",
       "    </tr>\n",
       "  </thead>\n",
       "  <tbody>\n",
       "    <tr>\n",
       "      <th>1</th>\n",
       "      <td>8.511</td>\n",
       "      <td>Gloomhaven</td>\n",
       "      <td>Vanquish monsters with strategic cardplay. Ful...</td>\n",
       "      <td>2017</td>\n",
       "      <td>1</td>\n",
       "      <td>4</td>\n",
       "      <td>3</td>\n",
       "      <td>60</td>\n",
       "      <td>120</td>\n",
       "      <td>14</td>\n",
       "      <td>3.87</td>\n",
       "      <td>Strategy,  Thematic</td>\n",
       "    </tr>\n",
       "    <tr>\n",
       "      <th>2</th>\n",
       "      <td>8.442</td>\n",
       "      <td>Pandemic Legacy: Season 1</td>\n",
       "      <td>Mutating diseases are spreading around the wor...</td>\n",
       "      <td>2015</td>\n",
       "      <td>2</td>\n",
       "      <td>4</td>\n",
       "      <td>4</td>\n",
       "      <td>60</td>\n",
       "      <td>60</td>\n",
       "      <td>13</td>\n",
       "      <td>2.83</td>\n",
       "      <td>Strategy,  Thematic</td>\n",
       "    </tr>\n",
       "    <tr>\n",
       "      <th>3</th>\n",
       "      <td>8.418</td>\n",
       "      <td>Brass: Birmingham</td>\n",
       "      <td>Build networks, grow industries, and navigate ...</td>\n",
       "      <td>2018</td>\n",
       "      <td>2</td>\n",
       "      <td>4</td>\n",
       "      <td>3, 4</td>\n",
       "      <td>60</td>\n",
       "      <td>120</td>\n",
       "      <td>14</td>\n",
       "      <td>3.90</td>\n",
       "      <td>Strategy</td>\n",
       "    </tr>\n",
       "    <tr>\n",
       "      <th>4</th>\n",
       "      <td>8.273</td>\n",
       "      <td>Terraforming Mars</td>\n",
       "      <td>Compete with rival CEOs to make Mars habitable...</td>\n",
       "      <td>2016</td>\n",
       "      <td>1</td>\n",
       "      <td>5</td>\n",
       "      <td>3</td>\n",
       "      <td>120</td>\n",
       "      <td>120</td>\n",
       "      <td>12</td>\n",
       "      <td>3.24</td>\n",
       "      <td>Strategy</td>\n",
       "    </tr>\n",
       "    <tr>\n",
       "      <th>5</th>\n",
       "      <td>8.262</td>\n",
       "      <td>Twilight Imperium: Fourth Edition</td>\n",
       "      <td>Build an intergalactic empire through trade, r...</td>\n",
       "      <td>2017</td>\n",
       "      <td>3</td>\n",
       "      <td>6</td>\n",
       "      <td>6</td>\n",
       "      <td>240</td>\n",
       "      <td>480</td>\n",
       "      <td>14</td>\n",
       "      <td>4.26</td>\n",
       "      <td>Strategy,  Thematic</td>\n",
       "    </tr>\n",
       "  </tbody>\n",
       "</table>\n",
       "</div>"
      ],
      "text/plain": [
       "      Rating                               Name  \\\n",
       "Rank                                              \n",
       "1      8.511                        Gloomhaven    \n",
       "2      8.442          Pandemic Legacy: Season 1   \n",
       "3      8.418                  Brass: Birmingham   \n",
       "4      8.273                  Terraforming Mars   \n",
       "5      8.262  Twilight Imperium: Fourth Edition   \n",
       "\n",
       "                                               Subtitle  Year  MinPlayers  \\\n",
       "Rank                                                                        \n",
       "1     Vanquish monsters with strategic cardplay. Ful...  2017           1   \n",
       "2     Mutating diseases are spreading around the wor...  2015           2   \n",
       "3     Build networks, grow industries, and navigate ...  2018           2   \n",
       "4     Compete with rival CEOs to make Mars habitable...  2016           1   \n",
       "5     Build an intergalactic empire through trade, r...  2017           3   \n",
       "\n",
       "      MaxPlayers BestPlayers  MinPlayTime  MaxPlayTime  MinAge  Weight  \\\n",
       "Rank                                                                     \n",
       "1              4           3           60          120      14    3.87   \n",
       "2              4           4           60           60      13    2.83   \n",
       "3              4        3, 4           60          120      14    3.90   \n",
       "4              5           3          120          120      12    3.24   \n",
       "5              6           6          240          480      14    4.26   \n",
       "\n",
       "                     Type  \n",
       "Rank                       \n",
       "1     Strategy,  Thematic  \n",
       "2     Strategy,  Thematic  \n",
       "3               Strategy   \n",
       "4               Strategy   \n",
       "5     Strategy,  Thematic  "
      ]
     },
     "execution_count": 28,
     "metadata": {},
     "output_type": "execute_result"
    }
   ],
   "source": [
    "df.head()"
   ]
  },
  {
   "attachments": {},
   "cell_type": "markdown",
   "metadata": {
    "_cell_guid": "37791460-6cd8-4eb1-86e8-6f6e96eedf03",
    "_uuid": "2ac50bbeef3ae057715d55638797f80a4f19155d",
    "colab_type": "text",
    "id": "1k2un17s1imZ"
   },
   "source": [
    "## Data cleaning"
   ]
  },
  {
   "cell_type": "code",
   "execution_count": 14,
   "metadata": {
    "_cell_guid": "4b130b9e-e1b8-4767-8906-42c691613096",
    "_uuid": "e258e16523f145c9ac80baefa687b1d74fa0c861",
    "colab": {
     "autoexec": {
      "startup": false,
      "wait_interval": 0
     },
     "base_uri": "https://localhost:8080/",
     "height": 663
    },
    "colab_type": "code",
    "collapsed": true,
    "executionInfo": {
     "elapsed": 592,
     "status": "ok",
     "timestamp": 1526572140425,
     "user": {
      "displayName": "Daniele Licari",
      "photoUrl": "//lh6.googleusercontent.com/-h8R-x0sf1G8/AAAAAAAAAAI/AAAAAAAABG4/wJizoTKm2YA/s50-c-k-no/photo.jpg",
      "userId": "104589627174468553732"
     },
     "user_tz": -120
    },
    "id": "amKMS71E4qu1",
    "jupyter": {
     "outputs_hidden": true
    },
    "outputId": "bdebfaee-60f3-461d-e93d-a096040ee717",
    "trusted": true
   },
   "outputs": [
    {
     "name": "stdout",
     "output_type": "stream",
     "text": [
      "<class 'pandas.core.frame.DataFrame'>\n",
      "Int64Index: 100 entries, 1 to 100\n",
      "Data columns (total 12 columns):\n",
      " #   Column       Non-Null Count  Dtype  \n",
      "---  ------       --------------  -----  \n",
      " 0   Rating       100 non-null    float64\n",
      " 1   Name         100 non-null    object \n",
      " 2   Subtitle     100 non-null    object \n",
      " 3   Year         100 non-null    int64  \n",
      " 4   MinPlayers   100 non-null    int64  \n",
      " 5   MaxPlayers   100 non-null    int64  \n",
      " 6   BestPlayers  100 non-null    object \n",
      " 7   MinPlayTime  100 non-null    int64  \n",
      " 8   MaxPlayTime  100 non-null    int64  \n",
      " 9   MinAge       100 non-null    int64  \n",
      " 10  Weight       100 non-null    float64\n",
      " 11  Type         100 non-null    object \n",
      "dtypes: float64(2), int64(6), object(4)\n",
      "memory usage: 10.2+ KB\n"
     ]
    }
   ],
   "source": [
    "df.info()"
   ]
  },
  {
   "cell_type": "code",
   "execution_count": 45,
   "metadata": {
    "_cell_guid": "d7f15595-e23b-4d1e-bf0b-e0091b857c62",
    "_uuid": "3cc3fe56a1963dc77225681f5b51cbeecbbd6d97",
    "colab": {
     "autoexec": {
      "startup": false,
      "wait_interval": 0
     },
     "base_uri": "https://localhost:8080/",
     "height": 363
    },
    "colab_type": "code",
    "collapsed": true,
    "executionInfo": {
     "elapsed": 586,
     "status": "ok",
     "timestamp": 1526573131277,
     "user": {
      "displayName": "Daniele Licari",
      "photoUrl": "//lh6.googleusercontent.com/-h8R-x0sf1G8/AAAAAAAAAAI/AAAAAAAABG4/wJizoTKm2YA/s50-c-k-no/photo.jpg",
      "userId": "104589627174468553732"
     },
     "user_tz": -120
    },
    "id": "pAX7YNTG2lvK",
    "jupyter": {
     "outputs_hidden": true
    },
    "outputId": "aeb8760f-16f5-4844-e02d-1359c1eb8096",
    "trusted": true
   },
   "outputs": [],
   "source": [
    "#dividing target variable from the other parameters\n",
    "X = df[df.columns[1:12]]\n",
    "y =  df[df.columns[0]]"
   ]
  },
  {
   "cell_type": "code",
   "execution_count": 55,
   "metadata": {},
   "outputs": [],
   "source": [
    "#numerating the string values and dropping names\n",
    "\n",
    "for index, value in X['BestPlayers'].items():\n",
    "    if value == 'None':\n",
    "        X.at[index, 'BestPlayers'] = 0\n",
    "    elif isinstance(value, str):\n",
    "        value_list = value.strip().split(',')\n",
    "        if len(value_list) == 1:\n",
    "            X.at[index, 'BestPlayers'] = int(value_list[0])\n",
    "        elif len(value_list) == 2:\n",
    "            start, end = int(value_list[0]), int(value_list[1])\n",
    "            X.at[index, 'BestPlayers'] = list(range(start, end))\n",
    "X_numbers =  X[X.columns[2:11]]"
   ]
  },
  {
   "cell_type": "code",
   "execution_count": 81,
   "metadata": {},
   "outputs": [
    {
     "name": "stdout",
     "output_type": "stream",
     "text": [
      "['Abstract', 'Strategy', 'Family', 'Customizable', 'Party', 'Wargames', 'Thematic']\n"
     ]
    }
   ],
   "source": [
    "uniqueWords = set()\n",
    "for i in X['Type']:\n",
    "    i = i.replace(\"\\xa0\\xa0\", \" \").replace(\"\\xa0\", \" \").strip().split(',')\n",
    "    for word in i:\n",
    "        uniqueWords.add(word.strip())\n",
    "\n",
    "res = list(uniqueWords)\n",
    "print(res)\n"
   ]
  },
  {
   "cell_type": "code",
   "execution_count": 56,
   "metadata": {},
   "outputs": [
    {
     "name": "stdout",
     "output_type": "stream",
     "text": [
      "<class 'pandas.core.frame.DataFrame'>\n",
      "Int64Index: 100 entries, 1 to 100\n",
      "Data columns (total 11 columns):\n",
      " #   Column       Non-Null Count  Dtype  \n",
      "---  ------       --------------  -----  \n",
      " 0   Name         100 non-null    object \n",
      " 1   Subtitle     100 non-null    object \n",
      " 2   Year         100 non-null    int64  \n",
      " 3   MinPlayers   100 non-null    int64  \n",
      " 4   MaxPlayers   100 non-null    int64  \n",
      " 5   BestPlayers  100 non-null    object \n",
      " 6   MinPlayTime  100 non-null    int64  \n",
      " 7   MaxPlayTime  100 non-null    int64  \n",
      " 8   MinAge       100 non-null    int64  \n",
      " 9   Weight       100 non-null    float64\n",
      " 10  Type         100 non-null    object \n",
      "dtypes: float64(1), int64(6), object(4)\n",
      "memory usage: 13.4+ KB\n"
     ]
    }
   ],
   "source": [
    "X.info()\n"
   ]
  },
  {
   "attachments": {},
   "cell_type": "markdown",
   "metadata": {},
   "source": [
    "I removed cols with zero standard deviation (size_x, size_y, size_z, spacing_x, spacing_y, spacing_z)"
   ]
  },
  {
   "cell_type": "code",
   "execution_count": 42,
   "metadata": {},
   "outputs": [
    {
     "data": {
      "text/html": [
       "<div>\n",
       "<style scoped>\n",
       "    .dataframe tbody tr th:only-of-type {\n",
       "        vertical-align: middle;\n",
       "    }\n",
       "\n",
       "    .dataframe tbody tr th {\n",
       "        vertical-align: top;\n",
       "    }\n",
       "\n",
       "    .dataframe thead th {\n",
       "        text-align: right;\n",
       "    }\n",
       "</style>\n",
       "<table border=\"1\" class=\"dataframe\">\n",
       "  <thead>\n",
       "    <tr style=\"text-align: right;\">\n",
       "      <th></th>\n",
       "      <th>Year</th>\n",
       "      <th>MinPlayers</th>\n",
       "      <th>MaxPlayers</th>\n",
       "      <th>MinPlayTime</th>\n",
       "      <th>MaxPlayTime</th>\n",
       "      <th>MinAge</th>\n",
       "      <th>Weight</th>\n",
       "    </tr>\n",
       "  </thead>\n",
       "  <tbody>\n",
       "    <tr>\n",
       "      <th>count</th>\n",
       "      <td>100.000000</td>\n",
       "      <td>100.000000</td>\n",
       "      <td>100.000000</td>\n",
       "      <td>100.000000</td>\n",
       "      <td>100.000000</td>\n",
       "      <td>100.000000</td>\n",
       "      <td>100.000000</td>\n",
       "    </tr>\n",
       "    <tr>\n",
       "      <th>mean</th>\n",
       "      <td>2012.890000</td>\n",
       "      <td>1.610000</td>\n",
       "      <td>4.420000</td>\n",
       "      <td>67.550000</td>\n",
       "      <td>131.150000</td>\n",
       "      <td>12.640000</td>\n",
       "      <td>3.322400</td>\n",
       "    </tr>\n",
       "    <tr>\n",
       "      <th>std</th>\n",
       "      <td>14.665217</td>\n",
       "      <td>0.601261</td>\n",
       "      <td>1.084137</td>\n",
       "      <td>38.055615</td>\n",
       "      <td>107.350683</td>\n",
       "      <td>1.540825</td>\n",
       "      <td>0.698233</td>\n",
       "    </tr>\n",
       "    <tr>\n",
       "      <th>min</th>\n",
       "      <td>1876.000000</td>\n",
       "      <td>1.000000</td>\n",
       "      <td>2.000000</td>\n",
       "      <td>5.000000</td>\n",
       "      <td>20.000000</td>\n",
       "      <td>8.000000</td>\n",
       "      <td>1.250000</td>\n",
       "    </tr>\n",
       "    <tr>\n",
       "      <th>25%</th>\n",
       "      <td>2012.000000</td>\n",
       "      <td>1.000000</td>\n",
       "      <td>4.000000</td>\n",
       "      <td>40.000000</td>\n",
       "      <td>90.000000</td>\n",
       "      <td>12.000000</td>\n",
       "      <td>2.875000</td>\n",
       "    </tr>\n",
       "    <tr>\n",
       "      <th>50%</th>\n",
       "      <td>2015.500000</td>\n",
       "      <td>2.000000</td>\n",
       "      <td>4.000000</td>\n",
       "      <td>60.000000</td>\n",
       "      <td>120.000000</td>\n",
       "      <td>13.000000</td>\n",
       "      <td>3.400000</td>\n",
       "    </tr>\n",
       "    <tr>\n",
       "      <th>75%</th>\n",
       "      <td>2018.000000</td>\n",
       "      <td>2.000000</td>\n",
       "      <td>5.000000</td>\n",
       "      <td>90.000000</td>\n",
       "      <td>150.000000</td>\n",
       "      <td>14.000000</td>\n",
       "      <td>3.825000</td>\n",
       "    </tr>\n",
       "    <tr>\n",
       "      <th>max</th>\n",
       "      <td>2020.000000</td>\n",
       "      <td>3.000000</td>\n",
       "      <td>8.000000</td>\n",
       "      <td>240.000000</td>\n",
       "      <td>1000.000000</td>\n",
       "      <td>17.000000</td>\n",
       "      <td>4.650000</td>\n",
       "    </tr>\n",
       "  </tbody>\n",
       "</table>\n",
       "</div>"
      ],
      "text/plain": [
       "              Year  MinPlayers  MaxPlayers  MinPlayTime  MaxPlayTime  \\\n",
       "count   100.000000  100.000000  100.000000   100.000000   100.000000   \n",
       "mean   2012.890000    1.610000    4.420000    67.550000   131.150000   \n",
       "std      14.665217    0.601261    1.084137    38.055615   107.350683   \n",
       "min    1876.000000    1.000000    2.000000     5.000000    20.000000   \n",
       "25%    2012.000000    1.000000    4.000000    40.000000    90.000000   \n",
       "50%    2015.500000    2.000000    4.000000    60.000000   120.000000   \n",
       "75%    2018.000000    2.000000    5.000000    90.000000   150.000000   \n",
       "max    2020.000000    3.000000    8.000000   240.000000  1000.000000   \n",
       "\n",
       "           MinAge      Weight  \n",
       "count  100.000000  100.000000  \n",
       "mean    12.640000    3.322400  \n",
       "std      1.540825    0.698233  \n",
       "min      8.000000    1.250000  \n",
       "25%     12.000000    2.875000  \n",
       "50%     13.000000    3.400000  \n",
       "75%     14.000000    3.825000  \n",
       "max     17.000000    4.650000  "
      ]
     },
     "execution_count": 42,
     "metadata": {},
     "output_type": "execute_result"
    }
   ],
   "source": [
    "X.describe()"
   ]
  }
 ],
 "metadata": {
  "colab": {
   "collapsed_sections": [],
   "default_view": {},
   "name": "Breast Cancer Kaggle",
   "provenance": [
    {
     "file_id": "10aYhs4Fh0eXJnEIQSFkDlDHwKq9EGrzU",
     "timestamp": 1526485216033
    },
    {
     "file_id": "1xjypwIexpnBD3Ro4x5nnkHl-93vQQ8qN",
     "timestamp": 1526063245562
    }
   ],
   "version": "0.3.2",
   "views": {}
  },
  "kernelspec": {
   "display_name": "biomedical_ai_enyem",
   "language": "python",
   "name": "python3"
  },
  "language_info": {
   "codemirror_mode": {
    "name": "ipython",
    "version": 3
   },
   "file_extension": ".py",
   "mimetype": "text/x-python",
   "name": "python",
   "nbconvert_exporter": "python",
   "pygments_lexer": "ipython3",
   "version": "3.9.13"
  },
  "vscode": {
   "interpreter": {
    "hash": "7f801d5bb7aa74f6512e1330214d259116af21e6dfed57c8fa65a98491716fff"
   }
  }
 },
 "nbformat": 4,
 "nbformat_minor": 4
}
